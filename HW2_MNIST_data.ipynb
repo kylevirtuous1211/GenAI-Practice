{
  "nbformat": 4,
  "nbformat_minor": 0,
  "metadata": {
    "colab": {
      "provenance": [],
      "gpuType": "T4",
      "authorship_tag": "ABX9TyNcTZ0HWU0Fy2K9VdfxGn8O",
      "include_colab_link": true
    },
    "kernelspec": {
      "name": "python3",
      "display_name": "Python 3"
    },
    "language_info": {
      "name": "python"
    },
    "accelerator": "GPU"
  },
  "cells": [
    {
      "cell_type": "markdown",
      "metadata": {
        "id": "view-in-github",
        "colab_type": "text"
      },
      "source": [
        "<a href=\"https://colab.research.google.com/github/kylevirtuous1211/GenAI-Practice/blob/main/HW2_MNIST_data.ipynb\" target=\"_parent\"><img src=\"https://colab.research.google.com/assets/colab-badge.svg\" alt=\"Open In Colab\"/></a>"
      ]
    },
    {
      "cell_type": "code",
      "execution_count": null,
      "metadata": {
        "id": "BQHlPWUfhYK4"
      },
      "outputs": [],
      "source": [
        "%matplotlib inline\n",
        "import numpy as np\n",
        "import matplotlib.pyplot as plt\n",
        "from PIL import Image\n",
        "import torch\n",
        "import torch.nn as nn\n",
        "from torch.utils.data import Dataset, DataLoader\n",
        "from torchvision.datasets import MNIST\n",
        "from torchvision import transforms"
      ]
    },
    {
      "cell_type": "code",
      "source": [
        "from google.colab import drive\n",
        "drive.mount('/content/drive')\n",
        "model_checkpoint_path = '/content/drive/MyDrive/Colab Notebooks/checkpoints/MNIST_checkpoint.pth'"
      ],
      "metadata": {
        "colab": {
          "base_uri": "https://localhost:8080/"
        },
        "id": "yyJG7x7Um2tc",
        "outputId": "19adb6bc-8d90-451b-9cc2-e49234940e67"
      },
      "execution_count": null,
      "outputs": [
        {
          "output_type": "stream",
          "name": "stdout",
          "text": [
            "Mounted at /content/drive\n"
          ]
        }
      ]
    },
    {
      "cell_type": "code",
      "source": [
        "transform = transforms.Compose([\n",
        "    transforms.ToTensor(),\n",
        "])\n",
        "# Assuming MNIST dataset is already downloaded\n",
        "mnist_dataset = MNIST(root='./data', train=True, download=True, transform=transform)\n",
        "\n",
        "train_loader = DataLoader(dataset=mnist_dataset, batch_size=64, shuffle=True)\n",
        "test_loader = DataLoader(dataset=mnist_dataset, batch_size=64)"
      ],
      "metadata": {
        "id": "8mggleC8n1DW"
      },
      "execution_count": null,
      "outputs": []
    },
    {
      "cell_type": "markdown",
      "source": [
        "### Creating the model architecture"
      ],
      "metadata": {
        "id": "FDkO9Ogc2fbP"
      }
    },
    {
      "cell_type": "code",
      "source": [
        "class MyModel(nn.Module):\n",
        "  def __init__(self):\n",
        "    super(MyModel, self).__init__()\n",
        "    self.net = nn.Sequential(\n",
        "        nn.Conv2d(1, 32, 3, 1),\n",
        "        nn.ReLU(),\n",
        "        nn.Conv2d(32, 64, 3, 1),\n",
        "        nn.ReLU(),\n",
        "        nn.Flatten(),\n",
        "        nn.Linear(36864, 10)\n",
        "    )\n",
        "  def forward(self, x):\n",
        "    return self.net(x)"
      ],
      "metadata": {
        "id": "Qob2lOwap4dx"
      },
      "execution_count": null,
      "outputs": []
    },
    {
      "cell_type": "markdown",
      "source": [
        "### Model training:\n",
        "Trained the model using 10 epochs. Because is a multi-label classification problem so I use cross entropy loss. Also, used Adam optimizer for better weight updates."
      ],
      "metadata": {
        "id": "frxhyUQlxY0X"
      }
    },
    {
      "cell_type": "code",
      "source": [
        "device = torch.device('cuda' if torch.cuda.is_available() else 'cpu')\n",
        "model = MyModel()\n",
        "mode = model.to(device)\n",
        "criterion = nn.CrossEntropyLoss()\n",
        "optimizer = torch.optim.Adam(model.parameters(), lr=0.001)\n",
        "\n",
        "epochs = 10\n",
        "for epoch in range(epochs):\n",
        "  for batch_idx, (data, targets) in enumerate(train_loader):\n",
        "    data = data.to(device=device)\n",
        "    targets = targets.to(device=device)\n",
        "\n",
        "    scores = model(data)\n",
        "    loss = criterion(scores, targets)\n",
        "    optimizer.zero_grad()\n",
        "    loss.backward()\n",
        "    optimizer.step()\n",
        "     # Print progress (optional)\n",
        "    if batch_idx % 100 == 0:\n",
        "        print(f\"Epoch [{epoch+1}/{epochs}], Batch [{batch_idx}/{len(train_loader)}], Loss: {loss.item():.4f}\")"
      ],
      "metadata": {
        "colab": {
          "base_uri": "https://localhost:8080/"
        },
        "id": "kPNhDaNBrBw_",
        "outputId": "0e349b50-4829-4d31-df51-5811968e0356"
      },
      "execution_count": null,
      "outputs": [
        {
          "output_type": "stream",
          "name": "stdout",
          "text": [
            "Epoch [1/10], Batch [0/938], Loss: 2.3053\n",
            "Epoch [1/10], Batch [100/938], Loss: 0.1332\n",
            "Epoch [1/10], Batch [200/938], Loss: 0.0544\n",
            "Epoch [1/10], Batch [300/938], Loss: 0.0555\n",
            "Epoch [1/10], Batch [400/938], Loss: 0.1037\n",
            "Epoch [1/10], Batch [500/938], Loss: 0.0434\n",
            "Epoch [1/10], Batch [600/938], Loss: 0.0371\n",
            "Epoch [1/10], Batch [700/938], Loss: 0.0514\n",
            "Epoch [1/10], Batch [800/938], Loss: 0.0806\n",
            "Epoch [1/10], Batch [900/938], Loss: 0.1805\n",
            "Epoch [2/10], Batch [0/938], Loss: 0.0195\n",
            "Epoch [2/10], Batch [100/938], Loss: 0.0073\n",
            "Epoch [2/10], Batch [200/938], Loss: 0.0177\n",
            "Epoch [2/10], Batch [300/938], Loss: 0.0300\n",
            "Epoch [2/10], Batch [400/938], Loss: 0.0959\n",
            "Epoch [2/10], Batch [500/938], Loss: 0.0123\n",
            "Epoch [2/10], Batch [600/938], Loss: 0.0366\n",
            "Epoch [2/10], Batch [700/938], Loss: 0.0519\n",
            "Epoch [2/10], Batch [800/938], Loss: 0.0991\n",
            "Epoch [2/10], Batch [900/938], Loss: 0.0482\n",
            "Epoch [3/10], Batch [0/938], Loss: 0.0109\n",
            "Epoch [3/10], Batch [100/938], Loss: 0.0040\n",
            "Epoch [3/10], Batch [200/938], Loss: 0.0407\n",
            "Epoch [3/10], Batch [300/938], Loss: 0.0002\n",
            "Epoch [3/10], Batch [400/938], Loss: 0.0098\n",
            "Epoch [3/10], Batch [500/938], Loss: 0.0088\n",
            "Epoch [3/10], Batch [600/938], Loss: 0.1129\n",
            "Epoch [3/10], Batch [700/938], Loss: 0.0415\n",
            "Epoch [3/10], Batch [800/938], Loss: 0.0069\n",
            "Epoch [3/10], Batch [900/938], Loss: 0.0104\n",
            "Epoch [4/10], Batch [0/938], Loss: 0.0261\n",
            "Epoch [4/10], Batch [100/938], Loss: 0.0433\n",
            "Epoch [4/10], Batch [200/938], Loss: 0.0027\n",
            "Epoch [4/10], Batch [300/938], Loss: 0.0059\n",
            "Epoch [4/10], Batch [400/938], Loss: 0.0003\n",
            "Epoch [4/10], Batch [500/938], Loss: 0.0772\n",
            "Epoch [4/10], Batch [600/938], Loss: 0.0061\n",
            "Epoch [4/10], Batch [700/938], Loss: 0.0008\n",
            "Epoch [4/10], Batch [800/938], Loss: 0.0607\n",
            "Epoch [4/10], Batch [900/938], Loss: 0.0402\n",
            "Epoch [5/10], Batch [0/938], Loss: 0.0029\n",
            "Epoch [5/10], Batch [100/938], Loss: 0.0001\n",
            "Epoch [5/10], Batch [200/938], Loss: 0.0027\n",
            "Epoch [5/10], Batch [300/938], Loss: 0.0197\n",
            "Epoch [5/10], Batch [400/938], Loss: 0.0248\n",
            "Epoch [5/10], Batch [500/938], Loss: 0.0045\n",
            "Epoch [5/10], Batch [600/938], Loss: 0.0016\n",
            "Epoch [5/10], Batch [700/938], Loss: 0.0134\n",
            "Epoch [5/10], Batch [800/938], Loss: 0.0024\n",
            "Epoch [5/10], Batch [900/938], Loss: 0.0145\n",
            "Epoch [6/10], Batch [0/938], Loss: 0.0167\n",
            "Epoch [6/10], Batch [100/938], Loss: 0.0057\n",
            "Epoch [6/10], Batch [200/938], Loss: 0.0043\n",
            "Epoch [6/10], Batch [300/938], Loss: 0.0131\n",
            "Epoch [6/10], Batch [400/938], Loss: 0.0049\n",
            "Epoch [6/10], Batch [500/938], Loss: 0.0061\n",
            "Epoch [6/10], Batch [600/938], Loss: 0.0073\n",
            "Epoch [6/10], Batch [700/938], Loss: 0.0001\n",
            "Epoch [6/10], Batch [800/938], Loss: 0.0110\n",
            "Epoch [6/10], Batch [900/938], Loss: 0.0002\n",
            "Epoch [7/10], Batch [0/938], Loss: 0.0045\n",
            "Epoch [7/10], Batch [100/938], Loss: 0.0003\n",
            "Epoch [7/10], Batch [200/938], Loss: 0.0022\n",
            "Epoch [7/10], Batch [300/938], Loss: 0.0175\n",
            "Epoch [7/10], Batch [400/938], Loss: 0.0141\n",
            "Epoch [7/10], Batch [500/938], Loss: 0.0009\n",
            "Epoch [7/10], Batch [600/938], Loss: 0.0003\n",
            "Epoch [7/10], Batch [700/938], Loss: 0.0174\n",
            "Epoch [7/10], Batch [800/938], Loss: 0.0003\n",
            "Epoch [7/10], Batch [900/938], Loss: 0.0043\n",
            "Epoch [8/10], Batch [0/938], Loss: 0.0039\n",
            "Epoch [8/10], Batch [100/938], Loss: 0.0002\n",
            "Epoch [8/10], Batch [200/938], Loss: 0.0031\n",
            "Epoch [8/10], Batch [300/938], Loss: 0.0023\n",
            "Epoch [8/10], Batch [400/938], Loss: 0.0013\n",
            "Epoch [8/10], Batch [500/938], Loss: 0.0004\n",
            "Epoch [8/10], Batch [600/938], Loss: 0.0001\n",
            "Epoch [8/10], Batch [700/938], Loss: 0.0006\n",
            "Epoch [8/10], Batch [800/938], Loss: 0.0001\n",
            "Epoch [8/10], Batch [900/938], Loss: 0.0332\n",
            "Epoch [9/10], Batch [0/938], Loss: 0.0033\n",
            "Epoch [9/10], Batch [100/938], Loss: 0.0083\n",
            "Epoch [9/10], Batch [200/938], Loss: 0.0002\n",
            "Epoch [9/10], Batch [300/938], Loss: 0.0003\n",
            "Epoch [9/10], Batch [400/938], Loss: 0.0217\n",
            "Epoch [9/10], Batch [500/938], Loss: 0.0073\n",
            "Epoch [9/10], Batch [600/938], Loss: 0.0014\n",
            "Epoch [9/10], Batch [700/938], Loss: 0.0011\n",
            "Epoch [9/10], Batch [800/938], Loss: 0.0005\n",
            "Epoch [9/10], Batch [900/938], Loss: 0.0000\n",
            "Epoch [10/10], Batch [0/938], Loss: 0.0000\n",
            "Epoch [10/10], Batch [100/938], Loss: 0.0008\n",
            "Epoch [10/10], Batch [200/938], Loss: 0.0000\n",
            "Epoch [10/10], Batch [300/938], Loss: 0.0018\n",
            "Epoch [10/10], Batch [400/938], Loss: 0.0281\n",
            "Epoch [10/10], Batch [500/938], Loss: 0.0000\n",
            "Epoch [10/10], Batch [600/938], Loss: 0.0002\n",
            "Epoch [10/10], Batch [700/938], Loss: 0.0703\n",
            "Epoch [10/10], Batch [800/938], Loss: 0.0018\n",
            "Epoch [10/10], Batch [900/938], Loss: 0.0148\n"
          ]
        }
      ]
    },
    {
      "cell_type": "code",
      "source": [
        "def evaluate_mnist_model(model, data_loader, device):\n",
        "    model.eval()  # Set the model to evaluation mode\n",
        "\n",
        "    correct = 0\n",
        "    total = 0\n",
        "\n",
        "    with torch.no_grad():\n",
        "        for data, targets in data_loader:\n",
        "            data = data.to(device)\n",
        "            targets = targets.to(device)\n",
        "\n",
        "            outputs = model(data)\n",
        "            _, predicted = torch.max(outputs.data, 1)\n",
        "\n",
        "            total += targets.size(0)\n",
        "            correct += (predicted == targets).sum().item()\n",
        "\n",
        "    accuracy = 100 * correct / total\n",
        "\n",
        "    print(f\"Evaluation Accuracy: {accuracy:.2f}%\")\n",
        "\n",
        "    return accuracy\n",
        "accuracy = evaluate_mnist_model(model, test_loader, device)\n",
        "print(accuracy)"
      ],
      "metadata": {
        "colab": {
          "base_uri": "https://localhost:8080/"
        },
        "id": "2RoQAS_Uu08g",
        "outputId": "1b2377da-c39e-4b7f-f475-a9d7046ba3b0"
      },
      "execution_count": null,
      "outputs": [
        {
          "output_type": "stream",
          "name": "stdout",
          "text": [
            "Evaluation Accuracy: 99.90%\n",
            "99.89833333333333\n"
          ]
        }
      ]
    },
    {
      "cell_type": "code",
      "source": [
        "data, targets = next(iter(test_loader))\n",
        "\n",
        "image = data[0].numpy().squeeze()\n",
        "label = targets[0].item()\n",
        "\n",
        "model.eval()\n",
        "with torch.no_grad():\n",
        "  output = model(data[0].unsqueeze(0).to(device))\n",
        "  _, predicted = torch.max(output.data, 1)\n",
        "  predicted_label = predicted.item()\n",
        "\n",
        "# Display the image, predicted label, and ground truth label\n",
        "plt.imshow(image, cmap='gray')\n",
        "plt.title(f\"Predicted: {predicted_label}, Ground Truth: {label}\")\n",
        "plt.show()\n"
      ],
      "metadata": {
        "colab": {
          "base_uri": "https://localhost:8080/",
          "height": 452
        },
        "id": "vIuiiwV8zoF9",
        "outputId": "68128d9e-3589-4326-83b5-c3b8ca5158f0"
      },
      "execution_count": null,
      "outputs": [
        {
          "output_type": "display_data",
          "data": {
            "text/plain": [
              "<Figure size 640x480 with 1 Axes>"
            ],
            "image/png": "[encoded data removed]"
          },
          "metadata": {}
        }
      ]
    },
    {
      "cell_type": "code",
      "source": [],
      "metadata": {
        "id": "J_pGd73b0yT9"
      },
      "execution_count": null,
      "outputs": []
    }
  ]
}